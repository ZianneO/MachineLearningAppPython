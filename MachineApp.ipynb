{
 "cells": [
  {
   "cell_type": "markdown",
   "id": "0d205b02-4724-4fba-99c4-724fae550227",
   "metadata": {},
   "source": [
    "# Machine Learning App in Python"
   ]
  },
  {
   "cell_type": "markdown",
   "id": "0231a22d-2bcb-4b52-bb3c-558df852a53a",
   "metadata": {},
   "source": [
    "## Zianne Olverson"
   ]
  },
  {
   "cell_type": "code",
   "execution_count": null,
   "id": "60da3208-4293-4e38-bb08-0563665e43ef",
   "metadata": {},
   "outputs": [],
   "source": []
  }
 ],
 "metadata": {
  "kernelspec": {
   "display_name": "Python 3 (ipykernel)",
   "language": "python",
   "name": "python3"
  },
  "language_info": {
   "codemirror_mode": {
    "name": "ipython",
    "version": 3
   },
   "file_extension": ".py",
   "mimetype": "text/x-python",
   "name": "python",
   "nbconvert_exporter": "python",
   "pygments_lexer": "ipython3",
   "version": "3.9.18"
  }
 },
 "nbformat": 4,
 "nbformat_minor": 5
}
